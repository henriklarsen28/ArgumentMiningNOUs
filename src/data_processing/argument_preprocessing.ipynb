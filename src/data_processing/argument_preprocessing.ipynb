{
 "cells": [
  {
   "cell_type": "code",
   "execution_count": 4,
   "metadata": {},
   "outputs": [],
   "source": [
    "import pandas as pd\n",
    "import spacy"
   ]
  },
  {
   "cell_type": "code",
   "execution_count": 5,
   "metadata": {},
   "outputs": [],
   "source": [
    "nlp = spacy.load('nb_core_news_md')"
   ]
  },
  {
   "cell_type": "code",
   "execution_count": 6,
   "metadata": {},
   "outputs": [
    {
     "data": {
      "text/html": [
       "<div>\n",
       "<style scoped>\n",
       "    .dataframe tbody tr th:only-of-type {\n",
       "        vertical-align: middle;\n",
       "    }\n",
       "\n",
       "    .dataframe tbody tr th {\n",
       "        vertical-align: top;\n",
       "    }\n",
       "\n",
       "    .dataframe thead th {\n",
       "        text-align: right;\n",
       "    }\n",
       "</style>\n",
       "<table border=\"1\" class=\"dataframe\">\n",
       "  <thead>\n",
       "    <tr style=\"text-align: right;\">\n",
       "      <th></th>\n",
       "      <th>0</th>\n",
       "    </tr>\n",
       "  </thead>\n",
       "  <tbody>\n",
       "    <tr>\n",
       "      <th>0</th>\n",
       "      <td>Abelia</td>\n",
       "    </tr>\n",
       "    <tr>\n",
       "      <th>1</th>\n",
       "      <td>Advokatforeningen</td>\n",
       "    </tr>\n",
       "    <tr>\n",
       "      <th>2</th>\n",
       "      <td>Agder fylkeskommune</td>\n",
       "    </tr>\n",
       "    <tr>\n",
       "      <th>3</th>\n",
       "      <td>Akademikerne</td>\n",
       "    </tr>\n",
       "    <tr>\n",
       "      <th>4</th>\n",
       "      <td>Alliansen ny landbrukspolitikk</td>\n",
       "    </tr>\n",
       "    <tr>\n",
       "      <th>...</th>\n",
       "      <td>...</td>\n",
       "    </tr>\n",
       "    <tr>\n",
       "      <th>207</th>\n",
       "      <td>WWF Verdens naturfond</td>\n",
       "    </tr>\n",
       "    <tr>\n",
       "      <th>208</th>\n",
       "      <td>Yara</td>\n",
       "    </tr>\n",
       "    <tr>\n",
       "      <th>209</th>\n",
       "      <td>Yrkesorganisasjonenes Sentralforbund (YS)</td>\n",
       "    </tr>\n",
       "    <tr>\n",
       "      <th>210</th>\n",
       "      <td>Z-Clix</td>\n",
       "    </tr>\n",
       "    <tr>\n",
       "      <th>211</th>\n",
       "      <td>ZERO</td>\n",
       "    </tr>\n",
       "  </tbody>\n",
       "</table>\n",
       "<p>212 rows × 1 columns</p>\n",
       "</div>"
      ],
      "text/plain": [
       "                                             0\n",
       "0                                       Abelia\n",
       "1                            Advokatforeningen\n",
       "2                          Agder fylkeskommune\n",
       "3                                 Akademikerne\n",
       "4               Alliansen ny landbrukspolitikk\n",
       "..                                         ...\n",
       "207                      WWF Verdens naturfond\n",
       "208                                       Yara\n",
       "209  Yrkesorganisasjonenes Sentralforbund (YS)\n",
       "210                                     Z-Clix\n",
       "211                                       ZERO\n",
       "\n",
       "[212 rows x 1 columns]"
      ]
     },
     "execution_count": 6,
     "metadata": {},
     "output_type": "execute_result"
    }
   ],
   "source": [
    "df = pd.read_csv(\"../../dataset/nou_hearings_full.csv\")\n",
    "\n",
    "df2 = df[\"actor\"].unique()\n",
    "pd.DataFrame(df2)"
   ]
  },
  {
   "cell_type": "code",
   "execution_count": 15,
   "metadata": {},
   "outputs": [
    {
     "name": "stdout",
     "output_type": "stream",
     "text": [
      "Ikke bare er kunnskapsnæringen en stor næring i seg selv men disse virksomhetene er også avgjørende for omstilling i alle andre næringer og i offentlig sektor bl.a. som leverandør av ny kunnskap og teknologi\n"
     ]
    }
   ],
   "source": [
    "df_arguments = pd.read_csv(\"../../dataset/argument_df_not_processed.csv\")\n",
    "\n",
    "# Find the arguments that are present in the paragraphs\n",
    "\n",
    "paragraph, argument = df_arguments[\"paragraph\"].loc[0], df_arguments[\"Response\"].loc[0]\n",
    "\n",
    "doc_p = nlp(paragraph)\n",
    "doc_a = nlp(argument)\n",
    "\n",
    "# Punctiation removal\n",
    "doc_p = nlp(' '.join([token.text for token in doc_p if not token.is_punct]))\n",
    "doc_a = nlp(' '.join([token.text for token in doc_a if not token.is_punct]))\n",
    "\n",
    "for sent_p in doc_p.sents:\n",
    "    \n",
    "    for sent_a in doc_a.sents:\n",
    "\n",
    "        if sent_a.text in sent_p.text:\n",
    "            print(sent_a.text)\n",
    "\n"
   ]
  }
 ],
 "metadata": {
  "kernelspec": {
   "display_name": "TDT4310",
   "language": "python",
   "name": "python3"
  },
  "language_info": {
   "codemirror_mode": {
    "name": "ipython",
    "version": 3
   },
   "file_extension": ".py",
   "mimetype": "text/x-python",
   "name": "python",
   "nbconvert_exporter": "python",
   "pygments_lexer": "ipython3",
   "version": "3.12.2"
  }
 },
 "nbformat": 4,
 "nbformat_minor": 2
}
