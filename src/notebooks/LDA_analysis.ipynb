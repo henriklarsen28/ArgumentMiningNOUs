{
 "cells": [
  {
   "cell_type": "markdown",
   "id": "f4710a2a64930683",
   "metadata": {
    "collapsed": false
   },
   "source": [
    "## LDA-analysis\n",
    "Here we import our LDA_model and initialize it using our dataset. "
   ]
  },
  {
   "cell_type": "code",
   "execution_count": null,
   "id": "56381c12",
   "metadata": {},
   "outputs": [],
   "source": [
    "import sys"
   ]
  },
  {
   "cell_type": "code",
   "execution_count": 4,
   "id": "cf8064363fe29006",
   "metadata": {
    "ExecuteTime": {
     "end_time": "2024-04-12T15:52:39.336792Z",
     "start_time": "2024-04-12T15:52:39.321141Z"
    },
    "collapsed": false
   },
   "outputs": [],
   "source": [
    "# !python -m spacy download nb_core_news_md # Uncomment to download Norsk Bokmål language package."
   ]
  },
  {
   "cell_type": "code",
   "execution_count": 4,
   "id": "f39004a0e59f8ec5",
   "metadata": {
    "ExecuteTime": {
     "end_time": "2024-04-12T15:52:39.345634Z",
     "start_time": "2024-04-12T15:52:39.325069Z"
    },
    "collapsed": false
   },
   "outputs": [],
   "source": [
    "from src.models.LDA import LDA\n",
    "import pandas as pd\n",
    "\n",
    "dataframe = pd.read_csv('../../dataset/nou_hearings_full.csv')\n",
    "texts = dataframe.paragraph.tolist()"
   ]
  },
  {
   "cell_type": "code",
   "execution_count": 5,
   "id": "initial_id",
   "metadata": {
    "ExecuteTime": {
     "end_time": "2024-04-12T15:52:46.444137Z",
     "start_time": "2024-04-12T15:52:39.341393Z"
    },
    "collapsed": true
   },
   "outputs": [
    {
     "ename": "",
     "evalue": "",
     "output_type": "error",
     "traceback": [
      "\u001b[1;31mThe Kernel crashed while executing code in the current cell or a previous cell. \n",
      "\u001b[1;31mPlease review the code in the cell(s) to identify a possible cause of the failure. \n",
      "\u001b[1;31mClick <a href='https://aka.ms/vscodeJupyterKernelCrash'>here</a> for more info. \n",
      "\u001b[1;31mView Jupyter <a href='command:jupyter.viewOutput'>log</a> for further details."
     ]
    }
   ],
   "source": [
    "model = LDA(data=texts, num_topics=5, language='nb_core_news_sm').model\n",
    "\n",
    "topics = model.print_topics(num_words=5)\n",
    "for topic in topics:\n",
    "    print(topic)"
   ]
  },
  {
   "cell_type": "code",
   "execution_count": 7,
   "id": "31bee203389afeeb",
   "metadata": {
    "ExecuteTime": {
     "end_time": "2024-04-12T15:52:47.699039Z",
     "start_time": "2024-04-12T15:52:46.443059Z"
    },
    "collapsed": false
   },
   "outputs": [
    {
     "name": "stdout",
     "output_type": "stream",
     "text": [
      "\u001b[2K\u001b[38;5;2m✔ Loaded compatibility table\u001b[0m\r\n",
      "\u001b[1m\r\n",
      "================= Installed pipeline packages (spaCy v3.7.4) =================\u001b[0m\r\n",
      "\u001b[38;5;4mℹ spaCy installation:\r\n",
      "/Users/nicolaisivesind/miniconda3/lib/python3.11/site-packages/spacy\u001b[0m\r\n",
      "\r\n",
      "NAME              SPACY            VERSION                            \r\n",
      "en_core_web_trf   >=3.7.2,<3.8.0   \u001b[38;5;2m3.7.3\u001b[0m   \u001b[38;5;2m✔\u001b[0m\r\n",
      "nb_core_news_sm   >=3.7.0,<3.8.0   \u001b[38;5;2m3.7.0\u001b[0m   \u001b[38;5;2m✔\u001b[0m\r\n",
      "nb_core_news_md   >=3.7.0,<3.8.0   \u001b[38;5;2m3.7.0\u001b[0m   \u001b[38;5;2m✔\u001b[0m\r\n",
      "\r\n"
     ]
    }
   ],
   "source": [
    "!python -m spacy validate"
   ]
  },
  {
   "cell_type": "code",
   "execution_count": 7,
   "id": "fa357a1f57757569",
   "metadata": {
    "ExecuteTime": {
     "end_time": "2024-04-12T15:52:47.702457Z",
     "start_time": "2024-04-12T15:52:47.699931Z"
    },
    "collapsed": false
   },
   "outputs": [],
   "source": []
  }
 ],
 "metadata": {
  "kernelspec": {
   "display_name": "Python 3",
   "language": "python",
   "name": "python3"
  },
  "language_info": {
   "codemirror_mode": {
    "name": "ipython",
    "version": 2
   },
   "file_extension": ".py",
   "mimetype": "text/x-python",
   "name": "python",
   "nbconvert_exporter": "python",
   "pygments_lexer": "ipython2",
   "version": "3.12.2"
  }
 },
 "nbformat": 4,
 "nbformat_minor": 5
}
